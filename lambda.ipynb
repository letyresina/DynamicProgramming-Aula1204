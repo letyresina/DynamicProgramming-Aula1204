{
 "cells": [
  {
   "cell_type": "code",
   "execution_count": 12,
   "metadata": {},
   "outputs": [
    {
     "name": "stdout",
     "output_type": "stream",
     "text": [
      "Nome: Leticia \n",
      "Sobrenome: Resina\n"
     ]
    }
   ],
   "source": [
    "nomeCompleto = lambda nome, sobrenome: f'Nome: {nome} \\nSobrenome: {sobrenome}'\n",
    "\n",
    "print(nomeCompleto('Leticia', 'Resina'))"
   ]
  },
  {
   "cell_type": "code",
   "execution_count": 15,
   "metadata": {},
   "outputs": [
    {
     "name": "stdout",
     "output_type": "stream",
     "text": [
      "True\n",
      "True\n",
      "False\n",
      "False\n"
     ]
    }
   ],
   "source": [
    "comecaComG = lambda x: True if x.startswith('G') or x.startswith('g') else False\n",
    "\n",
    "print(comecaComG('Gato'))\n",
    "print(comecaComG('gato'))\n",
    "print(comecaComG('lobo'))\n",
    "print(comecaComG('Aegis'))"
   ]
  },
  {
   "cell_type": "code",
   "execution_count": 18,
   "metadata": {},
   "outputs": [
    {
     "name": "stdout",
     "output_type": "stream",
     "text": [
      "criança\n",
      "adolescente\n",
      "adulto\n"
     ]
    }
   ],
   "source": [
    "classificarIdade = lambda idade: 'criança' if idade < 13 else ('adolescente' if idade < 18 else 'adulto')\n",
    "\n",
    "print(classificarIdade(10))\n",
    "print(classificarIdade(15))\n",
    "print(classificarIdade(20))"
   ]
  },
  {
   "cell_type": "code",
   "execution_count": null,
   "metadata": {},
   "outputs": [],
   "source": [
    "'''\n",
    "    Crie uma estrutura usando o parametro lambda para os seguintes casos\n",
    "    1. Crie um algoritmo para calcular uma equação do primeiro grau (10 x * 5)\n",
    "    2. Crie um algoritmo para calcular a força em newton usando as duas variaveis (massa e aceleração -> F = m x a)\n",
    "    3. Crie um algoritmo para calcular a temperatura em graus celcius (ºC) e  fahenreit (ºF) usando as variaveis temp, escala\n",
    "    converter ºC em ºF é: (temp - 32) * (5/9)\n",
    "    converter ºF em ºC é: (temp * 5/9) + 32\n",
    "    \n",
    "'''"
   ]
  },
  {
   "cell_type": "code",
   "execution_count": 22,
   "metadata": {},
   "outputs": [
    {
     "name": "stdout",
     "output_type": "stream",
     "text": [
      "100\n",
      "500\n"
     ]
    }
   ],
   "source": [
    "# 1. Crie um algoritmo para calcular uma equação do primeiro grau (10 x * 5)\n",
    "equacaoPrimeiroGrau = lambda x: 10 * x * 5\n",
    "\n",
    "print(equacaoPrimeiroGrau(2))\n",
    "print(equacaoPrimeiroGrau(10))"
   ]
  },
  {
   "cell_type": "code",
   "execution_count": 23,
   "metadata": {},
   "outputs": [
    {
     "name": "stdout",
     "output_type": "stream",
     "text": [
      "100\n"
     ]
    }
   ],
   "source": [
    "# 2. Crie um algoritmo para calcular a força em newton usando as duas variaveis (massa e aceleração -> F = m x a)\n",
    "forca = lambda massa, aceleracao: massa * aceleracao\n",
    "\n",
    "print(forca(10, 10))"
   ]
  },
  {
   "cell_type": "code",
   "execution_count": 30,
   "metadata": {},
   "outputs": [
    {
     "name": "stdout",
     "output_type": "stream",
     "text": [
      "2.2222222222222214\n",
      "43.111111111111114\n",
      "33.111111111111114\n"
     ]
    }
   ],
   "source": [
    "# 3. Crie um algoritmo para calcular a temperatura em graus celcius (ºC) e  fahenreit (ºF) usando as variaveis temp, escala\n",
    "\n",
    "converterTemperatura = lambda temp, escala: (temp - 32 * (9/5)) if escala == 'C' else (temp * 9/5) + 32 if escala == 'F' else 'Escala incorreta'\n",
    "\n",
    "print(converterTemperatura(20, 'C'))\n",
    "print(converterTemperatura(20, 'F'))\n",
    "\n",
    "print(converterTemperatura(2, 'F'))"
   ]
  },
  {
   "cell_type": "code",
   "execution_count": 31,
   "metadata": {},
   "outputs": [
    {
     "name": "stdout",
     "output_type": "stream",
     "text": [
      "<function construcaoQuadratica.<locals>.<lambda> at 0x000001B62CC42AC0>\n",
      "59\n"
     ]
    }
   ],
   "source": [
    "'''\n",
    "    Exercício 4 - Função que cria função\n",
    "    - Utilizar a função def chamando a, b, c\n",
    "    - Retornar função lambda do segundo grau com x, a b e c\n",
    "    - Testar\n",
    "'''\n",
    "\n",
    "def construcaoQuadratica(a,b,c):\n",
    "    \"\"\" Retorna a função quadrada \"\"\"\n",
    "    return lambda x: a * x ** 2 + b * x + c\n",
    "\n",
    "# Resultado de x\n",
    "f = construcaoQuadratica(2, 3, -6)\n",
    "print(f)\n",
    "\n",
    "resultado = f(5)\n",
    "print(resultado)"
   ]
  },
  {
   "cell_type": "code",
   "execution_count": 35,
   "metadata": {},
   "outputs": [
    {
     "name": "stdout",
     "output_type": "stream",
     "text": [
      "25\n",
      "105\n"
     ]
    }
   ],
   "source": [
    "'''\n",
    "    Exercício 5 - Crie uma função para calcualr o resultado final de uma equação do primeiro qual, de al forma que a \n",
    "    função def tenha dois parametros e a função lambda um único parametro\n",
    "'''\n",
    "\n",
    "def construcaoPrimeiroGrau(a,b):\n",
    "    \"\"\" Retorna a função quadrada \"\"\"\n",
    "    return lambda x: a * x + b\n",
    "\n",
    "f = construcaoPrimeiroGrau(10, 5)\n",
    "print(f(2))\n",
    "print(f(10))"
   ]
  },
  {
   "cell_type": "code",
   "execution_count": 38,
   "metadata": {},
   "outputs": [
    {
     "data": {
      "text/plain": [
       "2.6"
      ]
     },
     "execution_count": 38,
     "metadata": {},
     "output_type": "execute_result"
    }
   ],
   "source": [
    "'''\n",
    "    Exercício 6 - Crie um programa para retornar uma função para calcular a média ponderada\n",
    "'''\n",
    "\n",
    "def mediaPonderada(peso1, peso2):\n",
    "    return lambda x, y: (x*peso1 + y*peso2) / (peso1 + peso2)\n",
    "\n",
    "resultado = mediaPonderada(4, 6)\n",
    "\n",
    "resultadoFinal = resultado(2,3)\n",
    "\n",
    "resultadoFinal\n"
   ]
  }
 ],
 "metadata": {
  "kernelspec": {
   "display_name": "Python 3",
   "language": "python",
   "name": "python3"
  },
  "language_info": {
   "codemirror_mode": {
    "name": "ipython",
    "version": 3
   },
   "file_extension": ".py",
   "mimetype": "text/x-python",
   "name": "python",
   "nbconvert_exporter": "python",
   "pygments_lexer": "ipython3",
   "version": "3.11.4"
  },
  "orig_nbformat": 4
 },
 "nbformat": 4,
 "nbformat_minor": 2
}
